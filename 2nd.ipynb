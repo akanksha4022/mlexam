{
 "cells": [
  {
   "cell_type": "code",
   "execution_count": 2,
   "id": "56e0d946",
   "metadata": {},
   "outputs": [],
   "source": [
    "import pickle\n",
    "from sklearn.datasets import load_iris\n",
    "from sklearn.model_selection import train_test_split\n",
    "from sklearn.metrics import accuracy_score\n",
    "from sklearn.tree import DecisionTreeClassifier"
   ]
  },
  {
   "cell_type": "code",
   "execution_count": 3,
   "id": "f5449c17",
   "metadata": {},
   "outputs": [],
   "source": [
    "iris = load_iris()\n",
    "x=iris.data\n",
    "y=iris.target\n",
    "x_train,x_test,y_train,y_test=train_test_split(x,y,test_size=0.2,random_state=42)"
   ]
  },
  {
   "cell_type": "code",
   "execution_count": null,
   "id": "c0544f92",
   "metadata": {},
   "outputs": [],
   "source": [
    "model_v1=DecisionTreeClassifier(max_depth=2)\n",
    "model_v1.fit(x_train,y_train)\n",
    "\n",
    "y_pred_v1=model_v1.predict(x_test)\n",
    "\n",
    "accuracy_v1=accuracy_score(y_test,y_pred_v1)\n",
    "\n",
    "with open('model_v1.pkl','wb') as file:\n",
    "    pickle.dump(model_v1,file)"
   ]
  },
  {
   "cell_type": "code",
   "execution_count": 5,
   "id": "1ee366ba",
   "metadata": {},
   "outputs": [],
   "source": [
    "model_v2=DecisionTreeClassifier(max_depth=4)\n",
    "model_v2.fit(x_train,y_train)\n",
    "y_pred_v2=model_v1.predict(x_test)\n",
    "accuracy_v2=accuracy_score(y_test,y_pred_v1)\n",
    "\n",
    "with open('model_v2.pkl','wb') as file:\n",
    "    pickle.dump(model_v2,file)"
   ]
  },
  {
   "cell_type": "code",
   "execution_count": 6,
   "id": "dcfe902c",
   "metadata": {},
   "outputs": [
    {
     "name": "stdout",
     "output_type": "stream",
     "text": [
      "model_v1: 0.9667\n",
      "model_v2: 0.9667\n"
     ]
    }
   ],
   "source": [
    "print(f\"model_v1: {accuracy_v1:.4f}\")\n",
    "print(f\"model_v2: {accuracy_v2:.4f}\")"
   ]
  },
  {
   "cell_type": "code",
   "execution_count": null,
   "id": "94ee802a",
   "metadata": {},
   "outputs": [],
   "source": []
  },
  {
   "cell_type": "code",
   "execution_count": null,
   "id": "a7533881",
   "metadata": {},
   "outputs": [],
   "source": []
  }
 ],
 "metadata": {
  "kernelspec": {
   "display_name": "venv",
   "language": "python",
   "name": "python3"
  },
  "language_info": {
   "codemirror_mode": {
    "name": "ipython",
    "version": 3
   },
   "file_extension": ".py",
   "mimetype": "text/x-python",
   "name": "python",
   "nbconvert_exporter": "python",
   "pygments_lexer": "ipython3",
   "version": "3.11.4"
  }
 },
 "nbformat": 4,
 "nbformat_minor": 5
}
